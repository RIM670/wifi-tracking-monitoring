{
 "cells": [
  {
   "cell_type": "code",
   "execution_count": 12,
   "id": "361d3074-1b5b-49d1-b8e1-51193f07f6f7",
   "metadata": {},
   "outputs": [
    {
     "name": "stdout",
     "output_type": "stream",
     "text": [
      "Réseaux disponibles :\n"
     ]
    },
    {
     "ename": "UnicodeDecodeError",
     "evalue": "'utf-8' codec can't decode byte 0x83 in position 3760: invalid start byte",
     "output_type": "error",
     "traceback": [
      "\u001b[1;31m---------------------------------------------------------------------------\u001b[0m",
      "\u001b[1;31mUnicodeDecodeError\u001b[0m                        Traceback (most recent call last)",
      "Cell \u001b[1;32mIn[12], line 45\u001b[0m\n\u001b[0;32m     43\u001b[0m \u001b[38;5;28;01mwhile\u001b[39;00m \u001b[38;5;28;01mTrue\u001b[39;00m:\n\u001b[0;32m     44\u001b[0m     \u001b[38;5;28mprint\u001b[39m(\u001b[38;5;124m'\u001b[39m\u001b[38;5;124mRéseaux disponibles :\u001b[39m\u001b[38;5;124m'\u001b[39m)\n\u001b[1;32m---> 45\u001b[0m     \u001b[38;5;28;01mfor\u001b[39;00m network \u001b[38;5;129;01min\u001b[39;00m \u001b[43mread_data_from_cmd\u001b[49m\u001b[43m(\u001b[49m\u001b[43m)\u001b[49m:\n\u001b[0;32m     46\u001b[0m         \u001b[38;5;28mprint\u001b[39m(network)\n",
      "Cell \u001b[1;32mIn[12], line 16\u001b[0m, in \u001b[0;36mread_data_from_cmd\u001b[1;34m()\u001b[0m\n\u001b[0;32m     13\u001b[0m     \u001b[38;5;28;01mraise\u001b[39;00m \u001b[38;5;167;01mException\u001b[39;00m(\u001b[38;5;124m'\u001b[39m\u001b[38;5;124mSystème d\u001b[39m\u001b[38;5;130;01m\\'\u001b[39;00m\u001b[38;5;124mexploitation non supporté\u001b[39m\u001b[38;5;124m'\u001b[39m)\n\u001b[0;32m     15\u001b[0m \u001b[38;5;66;03m# Lire la sortie de la commande\u001b[39;00m\n\u001b[1;32m---> 16\u001b[0m out \u001b[38;5;241m=\u001b[39m \u001b[43mp\u001b[49m\u001b[38;5;241;43m.\u001b[39;49m\u001b[43mstdout\u001b[49m\u001b[38;5;241;43m.\u001b[39;49m\u001b[43mread\u001b[49m\u001b[43m(\u001b[49m\u001b[43m)\u001b[49m\u001b[38;5;241;43m.\u001b[39;49m\u001b[43mdecode\u001b[49m\u001b[43m(\u001b[49m\u001b[43m)\u001b[49m\n\u001b[0;32m     18\u001b[0m \u001b[38;5;66;03m# Extraction des données de signal avec des expressions régulières\u001b[39;00m\n\u001b[0;32m     19\u001b[0m \u001b[38;5;28;01mif\u001b[39;00m platform\u001b[38;5;241m.\u001b[39msystem() \u001b[38;5;241m==\u001b[39m \u001b[38;5;124m'\u001b[39m\u001b[38;5;124mLinux\u001b[39m\u001b[38;5;124m'\u001b[39m:\n\u001b[0;32m     20\u001b[0m     \u001b[38;5;66;03m# Extraire la force du signal pour Linux\u001b[39;00m\n",
      "\u001b[1;31mUnicodeDecodeError\u001b[0m: 'utf-8' codec can't decode byte 0x83 in position 3760: invalid start byte"
     ]
    }
   ],
   "source": [
    "import subprocess\n",
    "import re\n",
    "import platform\n",
    "import time\n",
    "\n",
    "def read_data_from_cmd():\n",
    "    # Déterminer le système d'exploitation et exécuter la commande appropriée\n",
    "    if platform.system() == 'Linux':\n",
    "        p = subprocess.Popen(\"iwconfig\", stdout=subprocess.PIPE, stderr=subprocess.PIPE)\n",
    "    elif platform.system() == 'Windows':\n",
    "        p = subprocess.Popen(\"netsh wlan show network mode=bssid\", stdout=subprocess.PIPE, stderr=subprocess.PIPE)\n",
    "    else:\n",
    "        raise Exception('Système d\\'exploitation non supporté')\n",
    "    \n",
    "    # Lire la sortie de la commande\n",
    "    out = p.stdout.read().decode()\n",
    "\n",
    "    # Extraction des données de signal avec des expressions régulières\n",
    "    if platform.system() == 'Linux':\n",
    "        # Extraire la force du signal pour Linux\n",
    "        m = re.findall(r'(wlan[0-9]+) .*? Signal level=(-[0-9]+) dBm', out, re.DOTALL)\n",
    "    elif platform.system() == 'Windows':\n",
    "        # Extraire le SSID et la force du signal pour Windows\n",
    "        m = re.findall(r'SSID .*?:.*? ([A-Za-z0-9 ]*) .*? Signal .*?:.*? ([0-9]*)%', out, re.DOTALL)\n",
    "    else:\n",
    "        raise Exception('Système d\\'exploitation non supporté')\n",
    "\n",
    "    p.communicate()\n",
    "    \n",
    "    # Retourner les résultats\n",
    "    return m\n",
    "\n",
    "   \n",
    "    if platform.system() == 'Linux':\n",
    "        # Si c'est Linux, la force du signal est dans la 2ème position (-[0-9]+)\n",
    "        max_signal = max(networks, key=lambda tup: int(tup[1])) \n",
    "    elif platform.system() == 'Windows':\n",
    "        # Si c'est Windows, on compare les pourcentages (convertis en int)\n",
    "        max_signal = max(networks, key=lambda tup: int(tup[1]))\n",
    "    \n",
    "   \n",
    "# Boucle infinie pour afficher les réseaux disponibles et le meilleur réseau\n",
    "while True:\n",
    "    print('Réseaux disponibles :')\n",
    "    for network in read_data_from_cmd():\n",
    "        print(network)\n",
    "  "
   ]
  },
  {
   "cell_type": "code",
   "execution_count": null,
   "id": "40b762d2-fe9d-47a9-840c-dbcc8ca125c6",
   "metadata": {},
   "outputs": [],
   "source": []
  },
  {
   "cell_type": "code",
   "execution_count": null,
   "id": "0124069f-ef55-49b5-bbaa-b44ed95367db",
   "metadata": {},
   "outputs": [],
   "source": []
  }
 ],
 "metadata": {
  "kernelspec": {
   "display_name": "Python 3 (ipykernel)",
   "language": "python",
   "name": "python3"
  },
  "language_info": {
   "codemirror_mode": {
    "name": "ipython",
    "version": 3
   },
   "file_extension": ".py",
   "mimetype": "text/x-python",
   "name": "python",
   "nbconvert_exporter": "python",
   "pygments_lexer": "ipython3",
   "version": "3.12.5"
  }
 },
 "nbformat": 4,
 "nbformat_minor": 5
}
