{
 "cells": [
  {
   "cell_type": "code",
   "execution_count": 2,
   "id": "b663f0da-95f7-4f0b-a57c-bcfa0dec3e41",
   "metadata": {},
   "outputs": [
    {
     "name": "stderr",
     "output_type": "stream",
     "text": [
      "C:\\Users\\admin\\AppData\\Local\\Temp\\ipykernel_19124\\2190358345.py:56: UserWarning: frames=None which we can infer the length of, did not pass an explicit *save_count* and passed cache_frame_data=True.  To avoid a possibly unbounded cache, frame data caching has been disabled. To suppress this warning either pass `cache_frame_data=False` or `save_count=MAX_FRAMES`.\n",
      "  ani = animation.FuncAnimation(fig, animate, interval=100)\n"
     ]
    }
   ],
   "source": [
    "import subprocess\n",
    "import re\n",
    "import platform\n",
    "import matplotlib\n",
    "matplotlib.use('TkAgg')  # Utilise le backend 'TkAgg' pour matplotlib\n",
    "import matplotlib.pyplot as plt\n",
    "import matplotlib.animation as animation\n",
    "from matplotlib import style\n",
    "\n",
    "# Utiliser un style graphique prédéfini pour matplotlib\n",
    "style.use('fivethirtyeight')\n",
    "\n",
    "# Créer une nouvelle figure avec une seule sous-figure (1x1)\n",
    "fig = plt.figure()\n",
    "ax1 = fig.add_subplot(1, 1, 1)\n",
    "\n",
    "# Fonction pour récupérer la force du signal depuis la commande du système\n",
    "def read_data_from_cmd():\n",
    "    # Déterminer le système d'exploitation et exécuter la commande appropriée\n",
    "    if platform.system() == 'Linux':\n",
    "        p = subprocess.Popen(\"iwconfig\", stdout=subprocess.PIPE, stderr=subprocess.PIPE)\n",
    "    elif platform.system() == 'Windows':\n",
    "        p = subprocess.Popen(\"netsh wlan show interfaces\", stdout=subprocess.PIPE, stderr=subprocess.PIPE)\n",
    "    else:\n",
    "        raise Exception('Système d\\'exploitation non supporté')\n",
    "\n",
    "    # Lire la sortie de la commande\n",
    "    out = p.stdout.read().decode()\n",
    "\n",
    "    # Extraction des données du signal avec des expressions régulières\n",
    "    if platform.system() == 'Linux':\n",
    "        # Pour Linux, extraire la force du signal en dBm\n",
    "        m = re.findall(r'(wlan[0-9]+) .*? Signal level=(-[0-9]+) dBm', out, re.DOTALL)\n",
    "    elif platform.system() == 'Windows':\n",
    "        m = re.findall(r'Signal .*?:.*? ([0-9]*)%', out, re.DOTALL)\n",
    "    else:\n",
    "        raise Exception('Système d\\'exploitation non supporté')\n",
    "\n",
    "    p.communicate()\n",
    "\n",
    "    # Retourner les résultats de l'extraction\n",
    "    return m\n",
    "\n",
    "# Fonction pour afficher et animer le graphique\n",
    "def animate(i):\n",
    "    ys = []\n",
    "    for t in range(100):\n",
    "       ys.append((read_data_from_cmd()[0]))\n",
    "    ax1.clear()\n",
    "    ax1.plot(ys)\n",
    "#nommer l'axe des signaux\n",
    "    plt.ylabel('Signal strength')\n",
    "#titre de la figure\n",
    "    ax1.set_title(\"Variation du signal de mon reseau \")\n",
    "#appeler animate chaque 100 ms pour mettre a jour le plot\n",
    "ani = animation.FuncAnimation(fig, animate, interval=100)\n",
    "plt.show()"
   ]
  },
  {
   "cell_type": "code",
   "execution_count": null,
   "id": "c6a3bd69-fe4c-4df4-8b19-c9380d0033dd",
   "metadata": {},
   "outputs": [],
   "source": []
  },
  {
   "cell_type": "code",
   "execution_count": null,
   "id": "89913b89-7d7e-4f39-8ebd-d42ce9c9b643",
   "metadata": {},
   "outputs": [],
   "source": []
  },
  {
   "cell_type": "code",
   "execution_count": null,
   "id": "c31f0382-64ff-48c8-b1d9-9a66418e7244",
   "metadata": {},
   "outputs": [],
   "source": []
  }
 ],
 "metadata": {
  "kernelspec": {
   "display_name": "Python 3 (ipykernel)",
   "language": "python",
   "name": "python3"
  },
  "language_info": {
   "codemirror_mode": {
    "name": "ipython",
    "version": 3
   },
   "file_extension": ".py",
   "mimetype": "text/x-python",
   "name": "python",
   "nbconvert_exporter": "python",
   "pygments_lexer": "ipython3",
   "version": "3.12.5"
  }
 },
 "nbformat": 4,
 "nbformat_minor": 5
}
