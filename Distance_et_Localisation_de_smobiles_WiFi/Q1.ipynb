{
 "cells": [
  {
   "cell_type": "code",
   "execution_count": 20,
   "id": "2b3e88ee-11cf-4b97-87df-a386074aec37",
   "metadata": {},
   "outputs": [
    {
     "name": "stdout",
     "output_type": "stream",
     "text": [
      "98\n",
      "Estimated distance to Ooredoo 4G_8A7073: 1.74 meters\n"
     ]
    }
   ],
   "source": [
    "import subprocess\n",
    "import re\n",
    "\n",
    "def read_data_from_cmd2():\n",
    "    p = subprocess.Popen(\"netsh wlan show networks mode=bssid\", stdout=subprocess.PIPE, stderr=subprocess.PIPE)\n",
    "    out = p.stdout.read().decode('unicode_escape').strip()\n",
    "    p.communicate() \n",
    "    return out\n",
    "\n",
    "def get_signal_strength(SSID):\n",
    "    data = read_data_from_cmd2()\n",
    "    list1 = re.findall(r'SSID \\d+ : (.*?)\\n.*?Signal\\s+:\\s+(\\d+)%', data, re.DOTALL)\n",
    "    \n",
    "    for i in list1:\n",
    "        if i[0].strip() == SSID:\n",
    "            return int(i[1])  # Return signal strength as integer\n",
    "    return None\n",
    "\n",
    "def calculate_distance_wifi(signal_strength):\n",
    "    if(signal_strength <= 0):\n",
    "         rssi = -100;\n",
    "    elif(signal_strength >= 100):\n",
    "        rssi = -50;\n",
    "    else:\n",
    "         rssi = signal_strength * 0.5 - 100;\n",
    "   \n",
    "   # rssi = -90 + (signal_strength * 0.6) \n",
    "    measured_power = -45  # Reference power level at 1 meter (typical range is -40 to -50 dBm)\n",
    "    n = 2.5            # Path-loss exponent \n",
    "    \n",
    "    # Calculate distance using the formula\n",
    "    distance = pow(10, (measured_power - rssi) / (10 * n))\n",
    "    \n",
    "    return distance\n",
    "\n",
    "# Example usage\n",
    "SSID = 'Ooredoo 4G_8A7073'  # Replace with the actual SSID\n",
    "signal_strength = get_signal_strength(SSID)\n",
    "print(signal_strength)\n",
    "\n",
    "if signal_strength is not None:\n",
    "    distance = calculate_distance_wifi(signal_strength)\n",
    "    print(f\"Estimated distance to {SSID}: {distance:.2f} meters\")\n",
    "else:\n",
    "    print(f\"SSID '{SSID}' not found.\")\n"
   ]
  },
  {
   "cell_type": "code",
   "execution_count": null,
   "id": "fa86533e-026c-4d15-992e-567c0eea144b",
   "metadata": {},
   "outputs": [],
   "source": []
  }
 ],
 "metadata": {
  "kernelspec": {
   "display_name": "Python 3 (ipykernel)",
   "language": "python",
   "name": "python3"
  },
  "language_info": {
   "codemirror_mode": {
    "name": "ipython",
    "version": 3
   },
   "file_extension": ".py",
   "mimetype": "text/x-python",
   "name": "python",
   "nbconvert_exporter": "python",
   "pygments_lexer": "ipython3",
   "version": "3.12.5"
  }
 },
 "nbformat": 4,
 "nbformat_minor": 5
}
